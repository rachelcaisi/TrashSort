{
 "cells": [
  {
   "cell_type": "code",
   "execution_count": 58,
   "metadata": {},
   "outputs": [],
   "source": [
    "import pandas as pd\n",
    "import numpy as np\n",
    "import json\n",
    "import time\n",
    "from joblib import dump, load"
   ]
  },
  {
   "cell_type": "code",
   "execution_count": 59,
   "metadata": {},
   "outputs": [],
   "source": [
    "WASTE_TYPES_IND = [0, 1, 2, 3, 4, 5]\n",
    "WASTE_TYPES_NAME = ['trash','cardboard','glass','metal','paper','plastic']"
   ]
  },
  {
   "cell_type": "code",
   "execution_count": 60,
   "metadata": {},
   "outputs": [
    {
     "data": {
      "text/html": [
       "<div>\n",
       "<style scoped>\n",
       "    .dataframe tbody tr th:only-of-type {\n",
       "        vertical-align: middle;\n",
       "    }\n",
       "\n",
       "    .dataframe tbody tr th {\n",
       "        vertical-align: top;\n",
       "    }\n",
       "\n",
       "    .dataframe thead th {\n",
       "        text-align: right;\n",
       "    }\n",
       "</style>\n",
       "<table border=\"1\" class=\"dataframe\">\n",
       "  <thead>\n",
       "    <tr style=\"text-align: right;\">\n",
       "      <th></th>\n",
       "      <th>name</th>\n",
       "      <th>type</th>\n",
       "      <th>descriptor</th>\n",
       "    </tr>\n",
       "  </thead>\n",
       "  <tbody>\n",
       "    <tr>\n",
       "      <td>0</td>\n",
       "      <td>dataset-resized/trash/trash1.jpg</td>\n",
       "      <td>0</td>\n",
       "      <td>[[32.0, 1.0, 1.0, 0.0, 0.0, 0.0, 0.0, 9.0, 172...</td>\n",
       "    </tr>\n",
       "    <tr>\n",
       "      <td>1</td>\n",
       "      <td>dataset-resized/trash/trash2.jpg</td>\n",
       "      <td>0</td>\n",
       "      <td>[[133.0, 64.0, 1.0, 0.0, 0.0, 3.0, 12.0, 18.0,...</td>\n",
       "    </tr>\n",
       "    <tr>\n",
       "      <td>2</td>\n",
       "      <td>dataset-resized/trash/trash3.jpg</td>\n",
       "      <td>0</td>\n",
       "      <td>[[0.0, 0.0, 0.0, 3.0, 20.0, 12.0, 4.0, 3.0, 47...</td>\n",
       "    </tr>\n",
       "    <tr>\n",
       "      <td>3</td>\n",
       "      <td>dataset-resized/trash/trash4.jpg</td>\n",
       "      <td>0</td>\n",
       "      <td>[[27.0, 133.0, 147.0, 0.0, 0.0, 0.0, 0.0, 1.0,...</td>\n",
       "    </tr>\n",
       "    <tr>\n",
       "      <td>4</td>\n",
       "      <td>dataset-resized/trash/trash5.jpg</td>\n",
       "      <td>0</td>\n",
       "      <td>[[4.0, 42.0, 42.0, 0.0, 1.0, 35.0, 59.0, 12.0,...</td>\n",
       "    </tr>\n",
       "  </tbody>\n",
       "</table>\n",
       "</div>"
      ],
      "text/plain": [
       "                               name  type  \\\n",
       "0  dataset-resized/trash/trash1.jpg     0   \n",
       "1  dataset-resized/trash/trash2.jpg     0   \n",
       "2  dataset-resized/trash/trash3.jpg     0   \n",
       "3  dataset-resized/trash/trash4.jpg     0   \n",
       "4  dataset-resized/trash/trash5.jpg     0   \n",
       "\n",
       "                                          descriptor  \n",
       "0  [[32.0, 1.0, 1.0, 0.0, 0.0, 0.0, 0.0, 9.0, 172...  \n",
       "1  [[133.0, 64.0, 1.0, 0.0, 0.0, 3.0, 12.0, 18.0,...  \n",
       "2  [[0.0, 0.0, 0.0, 3.0, 20.0, 12.0, 4.0, 3.0, 47...  \n",
       "3  [[27.0, 133.0, 147.0, 0.0, 0.0, 0.0, 0.0, 1.0,...  \n",
       "4  [[4.0, 42.0, 42.0, 0.0, 1.0, 35.0, 59.0, 12.0,...  "
      ]
     },
     "execution_count": 60,
     "metadata": {},
     "output_type": "execute_result"
    }
   ],
   "source": [
    "dtype_dict = {\"name\":str, \"type\":int, \"descriptor\":list}\n",
    "\n",
    "df = pd.read_csv('image_sift.csv')\n",
    "df.head()"
   ]
  },
  {
   "cell_type": "code",
   "execution_count": null,
   "metadata": {},
   "outputs": [],
   "source": [
    "# Create list of all descriptors from train data\n",
    "descriptors = df['descriptor'].tolist()\n",
    "df.drop('descriptor', axis=1)\n",
    "temp = []\n",
    "all_descriptors = []\n",
    "for desc in descriptors :\n",
    "    jsonified = json.loads(desc)\n",
    "    temp.append(jsonified)\n",
    "    all_descriptors += jsonified\n",
    "descriptors = temp"
   ]
  },
  {
   "cell_type": "code",
   "execution_count": 62,
   "metadata": {},
   "outputs": [
    {
     "data": {
      "text/html": [
       "<div>\n",
       "<style scoped>\n",
       "    .dataframe tbody tr th:only-of-type {\n",
       "        vertical-align: middle;\n",
       "    }\n",
       "\n",
       "    .dataframe tbody tr th {\n",
       "        vertical-align: top;\n",
       "    }\n",
       "\n",
       "    .dataframe thead th {\n",
       "        text-align: right;\n",
       "    }\n",
       "</style>\n",
       "<table border=\"1\" class=\"dataframe\">\n",
       "  <thead>\n",
       "    <tr style=\"text-align: right;\">\n",
       "      <th></th>\n",
       "      <th>name</th>\n",
       "      <th>type</th>\n",
       "      <th>descriptor</th>\n",
       "    </tr>\n",
       "  </thead>\n",
       "  <tbody>\n",
       "    <tr>\n",
       "      <td>0</td>\n",
       "      <td>dataset-resized/trash/trash1.jpg</td>\n",
       "      <td>0</td>\n",
       "      <td>[[32.0, 1.0, 1.0, 0.0, 0.0, 0.0, 0.0, 9.0, 172...</td>\n",
       "    </tr>\n",
       "    <tr>\n",
       "      <td>1</td>\n",
       "      <td>dataset-resized/trash/trash2.jpg</td>\n",
       "      <td>0</td>\n",
       "      <td>[[133.0, 64.0, 1.0, 0.0, 0.0, 3.0, 12.0, 18.0,...</td>\n",
       "    </tr>\n",
       "    <tr>\n",
       "      <td>2</td>\n",
       "      <td>dataset-resized/trash/trash3.jpg</td>\n",
       "      <td>0</td>\n",
       "      <td>[[0.0, 0.0, 0.0, 3.0, 20.0, 12.0, 4.0, 3.0, 47...</td>\n",
       "    </tr>\n",
       "    <tr>\n",
       "      <td>3</td>\n",
       "      <td>dataset-resized/trash/trash4.jpg</td>\n",
       "      <td>0</td>\n",
       "      <td>[[27.0, 133.0, 147.0, 0.0, 0.0, 0.0, 0.0, 1.0,...</td>\n",
       "    </tr>\n",
       "    <tr>\n",
       "      <td>4</td>\n",
       "      <td>dataset-resized/trash/trash5.jpg</td>\n",
       "      <td>0</td>\n",
       "      <td>[[4.0, 42.0, 42.0, 0.0, 1.0, 35.0, 59.0, 12.0,...</td>\n",
       "    </tr>\n",
       "  </tbody>\n",
       "</table>\n",
       "</div>"
      ],
      "text/plain": [
       "                               name  type  \\\n",
       "0  dataset-resized/trash/trash1.jpg     0   \n",
       "1  dataset-resized/trash/trash2.jpg     0   \n",
       "2  dataset-resized/trash/trash3.jpg     0   \n",
       "3  dataset-resized/trash/trash4.jpg     0   \n",
       "4  dataset-resized/trash/trash5.jpg     0   \n",
       "\n",
       "                                          descriptor  \n",
       "0  [[32.0, 1.0, 1.0, 0.0, 0.0, 0.0, 0.0, 9.0, 172...  \n",
       "1  [[133.0, 64.0, 1.0, 0.0, 0.0, 3.0, 12.0, 18.0,...  \n",
       "2  [[0.0, 0.0, 0.0, 3.0, 20.0, 12.0, 4.0, 3.0, 47...  \n",
       "3  [[27.0, 133.0, 147.0, 0.0, 0.0, 0.0, 0.0, 1.0,...  \n",
       "4  [[4.0, 42.0, 42.0, 0.0, 1.0, 35.0, 59.0, 12.0,...  "
      ]
     },
     "execution_count": 62,
     "metadata": {},
     "output_type": "execute_result"
    }
   ],
   "source": [
    "df['descriptor'] = descriptors\n",
    "df.head()"
   ]
  },
  {
   "cell_type": "code",
   "execution_count": 63,
   "metadata": {},
   "outputs": [
    {
     "name": "stdout",
     "output_type": "stream",
     "text": [
      "Dataset dimension: (2521, 2521)\n"
     ]
    }
   ],
   "source": [
    "labels = df['type'].to_list()\n",
    "print(\"Dataset dimension: (%d, %d)\" %(len(descriptors), len(labels)))"
   ]
  },
  {
   "cell_type": "code",
   "execution_count": 64,
   "metadata": {},
   "outputs": [
    {
     "name": "stdout",
     "output_type": "stream",
     "text": [
      "Train dimension: (1764, 1764)\n",
      "Test dimension: (757, 757)\n"
     ]
    }
   ],
   "source": [
    "from sklearn.model_selection import train_test_split\n",
    "feature_train, feature_test, label_train, label_test = train_test_split(descriptors, labels, test_size=0.30, random_state=47)\n",
    "print(\"Train dimension: (%d, %d)\" %(len(feature_train), len(label_train)))\n",
    "print(\"Test dimension: (%d, %d)\" %(len(feature_test), len(label_test)))"
   ]
  },
  {
   "cell_type": "code",
   "execution_count": 65,
   "metadata": {},
   "outputs": [
    {
     "data": {
      "text/plain": [
       "176"
      ]
     },
     "execution_count": 65,
     "metadata": {},
     "output_type": "execute_result"
    }
   ],
   "source": [
    "import random\n",
    "\n",
    "sampling_percentage = 0.1\n",
    "sampled_train = random.sample(feature_train, int(len(feature_train) * sampling_percentage))\n",
    "len(sampled_train)"
   ]
  },
  {
   "cell_type": "code",
   "execution_count": 66,
   "metadata": {},
   "outputs": [
    {
     "name": "stdout",
     "output_type": "stream",
     "text": [
      "79069\n"
     ]
    }
   ],
   "source": [
    "all_descriptors = []\n",
    "for desc in sampled_train :\n",
    "    all_descriptors += desc\n",
    "print(len(all_descriptors))"
   ]
  },
  {
   "cell_type": "code",
   "execution_count": 89,
   "metadata": {},
   "outputs": [
    {
     "name": "stdout",
     "output_type": "stream",
     "text": [
      "CPU times: user 1.63 s, sys: 1.82 s, total: 3.46 s\n",
      "Wall time: 19min 25s\n"
     ]
    },
    {
     "data": {
      "text/plain": [
       "KMeans(algorithm='auto', copy_x=True, init='k-means++', max_iter=300,\n",
       "       n_clusters=1200, n_init=10, n_jobs=-1, precompute_distances=True,\n",
       "       random_state=None, tol=0.0001, verbose=0)"
      ]
     },
     "execution_count": 89,
     "metadata": {},
     "output_type": "execute_result"
    }
   ],
   "source": [
    "%%time\n",
    "# Use descriptors to form 400 clusuters\n",
    "from sklearn.cluster import KMeans\n",
    "\n",
    "# NUM_WORDS = 800\n",
    "NUM_WORDS = 1200\n",
    "\n",
    "time.sleep(3)\n",
    "kmeans = KMeans(n_clusters = NUM_WORDS, precompute_distances=True, n_jobs=-1)\n",
    "kmeans.fit(all_descriptors)"
   ]
  },
  {
   "cell_type": "code",
   "execution_count": 62,
   "metadata": {},
   "outputs": [
    {
     "name": "stdout",
     "output_type": "stream",
     "text": [
      "CPU times: user 29.5 s, sys: 408 ms, total: 29.9 s\n",
      "Wall time: 10.8 s\n"
     ]
    },
    {
     "data": {
      "text/plain": [
       "MiniBatchKMeans(batch_size=10000, compute_labels=True, init='k-means++',\n",
       "                init_size=None, max_iter=100, max_no_improvement=10,\n",
       "                n_clusters=1600, n_init=3, random_state=None,\n",
       "                reassignment_ratio=0.01, tol=0.0, verbose=0)"
      ]
     },
     "execution_count": 62,
     "metadata": {},
     "output_type": "execute_result"
    }
   ],
   "source": [
    "# %%time\n",
    "# # Use descriptors to form 400 clusuters\n",
    "# from sklearn.cluster import MiniBatchKMeans\n",
    "\n",
    "# # NUM_WORDS = 800\n",
    "# NUM_WORDS = 1600\n",
    "\n",
    "# time.sleep(3)\n",
    "# kmeans = MiniBatchKMeans(n_clusters = NUM_WORDS, batch_size=10000)\n",
    "# kmeans.fit(all_descriptors)"
   ]
  },
  {
   "cell_type": "code",
   "execution_count": 90,
   "metadata": {},
   "outputs": [
    {
     "data": {
      "text/plain": [
       "['data/models/kmeans/ten_percent_sample_1200words_kmeans.joblib']"
      ]
     },
     "execution_count": 90,
     "metadata": {},
     "output_type": "execute_result"
    }
   ],
   "source": [
    "dump(kmeans, 'data/models/kmeans/ten_percent_sample_1200words_kmeans.joblib')"
   ]
  },
  {
   "cell_type": "code",
   "execution_count": 91,
   "metadata": {},
   "outputs": [],
   "source": [
    "def build_freq_list(img_descriptors, model, num_words):\n",
    "    freq_list = [0] * num_words\n",
    "    for word in model.predict(img_descriptors):\n",
    "        freq_list[word] += 1\n",
    "    return freq_list\n",
    "\n",
    "def img_descriptors_to_freq_list(data, model, num_words): \n",
    "    processed_image = []\n",
    "    for img_descriptors in data:\n",
    "        if (img_descriptors is not None):\n",
    "            freq_list = build_freq_list(img_descriptors, model, num_words)\n",
    "            processed_image.append(freq_list)\n",
    "    return processed_image"
   ]
  },
  {
   "cell_type": "code",
   "execution_count": 93,
   "metadata": {},
   "outputs": [],
   "source": [
    "preprocessed_image = img_descriptors_to_freq_list(feature_train, kmeans, NUM_WORDS)"
   ]
  },
  {
   "cell_type": "code",
   "execution_count": 94,
   "metadata": {},
   "outputs": [
    {
     "data": {
      "text/plain": [
       "KNeighborsClassifier(algorithm='auto', leaf_size=30, metric='minkowski',\n",
       "                     metric_params=None, n_jobs=None, n_neighbors=5, p=2,\n",
       "                     weights='uniform')"
      ]
     },
     "execution_count": 94,
     "metadata": {},
     "output_type": "execute_result"
    }
   ],
   "source": [
    "from sklearn.neighbors import KNeighborsClassifier\n",
    "\n",
    "knn = KNeighborsClassifier(n_neighbors=5)\n",
    "knn.fit(preprocessed_image, label_train)"
   ]
  },
  {
   "cell_type": "code",
   "execution_count": 95,
   "metadata": {},
   "outputs": [],
   "source": [
    "def test_model(model, index):\n",
    "    print(\"predicted: %d, actual: %d\" %(model.predict([preprocessed_image]), label_train))"
   ]
  },
  {
   "cell_type": "code",
   "execution_count": 96,
   "metadata": {},
   "outputs": [
    {
     "name": "stdout",
     "output_type": "stream",
     "text": [
      "Individual scores:\n",
      "[0.50704225 0.63823065 0.58374384 0.53488372 0.64035088 0.57429048]\n",
      "\n",
      "Average score: 0\n"
     ]
    }
   ],
   "source": [
    "from sklearn.metrics import f1_score\n",
    "\n",
    "pred = knn.predict(preprocessed_image)\n",
    "print(\"Individual scores:\")\n",
    "print(f1_score(label_train, pred, average = None))\n",
    "print(\"\\nAverage score: %d\" %(f1_score(label_train, pred, average = 'macro')))"
   ]
  },
  {
   "cell_type": "code",
   "execution_count": 97,
   "metadata": {},
   "outputs": [],
   "source": [
    "processed_feature_test = img_descriptors_to_freq_list(feature_test, kmeans, NUM_WORDS)\n",
    "pred = knn.predict(processed_feature_test)"
   ]
  },
  {
   "cell_type": "code",
   "execution_count": 98,
   "metadata": {},
   "outputs": [
    {
     "name": "stdout",
     "output_type": "stream",
     "text": [
      "Individual scores:\n",
      "[0.25581395 0.46721311 0.42136499 0.42051282 0.44783715 0.3011583 ]\n",
      "\n",
      "Average score: 0\n"
     ]
    }
   ],
   "source": [
    "print(\"Individual scores:\")\n",
    "print(f1_score(label_test, pred, average = None))\n",
    "print(\"\\nAverage score: %d\" %(f1_score(label_test, pred, average = 'micro')))"
   ]
  },
  {
   "cell_type": "code",
   "execution_count": 99,
   "metadata": {},
   "outputs": [],
   "source": [
    "from sklearn.metrics import confusion_matrix\n",
    "knn_cm = confusion_matrix(label_test, pred)"
   ]
  },
  {
   "cell_type": "code",
   "execution_count": 100,
   "metadata": {},
   "outputs": [
    {
     "data": {
      "image/png": "[encoded data removed]",
      "text/plain": [
       "<Figure size 720x576 with 2 Axes>"
      ]
     },
     "metadata": {
      "needs_background": "light"
     },
     "output_type": "display_data"
    }
   ],
   "source": [
    "import seaborn as sns \n",
    "import matplotlib.pyplot as plt\n",
    "\n",
    "#Example of undersampling\n",
    "\n",
    "df_knn = pd.DataFrame(knn_cm, WASTE_TYPES_NAME, WASTE_TYPES_NAME)\n",
    "\n",
    "plt.figure(figsize=(10,8))\n",
    "ax = sns.heatmap(df_knn,annot=True,fmt=\"d\",cmap=\"YlGnBu\")\n",
    "ax.set_ylim(6.0, 0.0)\n",
    "plt.savefig('analysis/knn/tenpercent_1200words_imbalance_knn_5.png')\n",
    "plt.show()"
   ]
  },
  {
   "cell_type": "code",
   "execution_count": 102,
   "metadata": {},
   "outputs": [
    {
     "data": {
      "text/plain": [
       "MultinomialNB(alpha=1.0, class_prior=None, fit_prior=True)"
      ]
     },
     "execution_count": 102,
     "metadata": {},
     "output_type": "execute_result"
    }
   ],
   "source": [
    "from sklearn.naive_bayes import MultinomialNB\n",
    "\n",
    "nb = MultinomialNB()\n",
    "nb.fit(preprocessed_image, label_train)"
   ]
  },
  {
   "cell_type": "code",
   "execution_count": 106,
   "metadata": {},
   "outputs": [
    {
     "data": {
      "text/plain": [
       "['data/models/nb/tenpercent_1200words_imbalanced_nb.joblib']"
      ]
     },
     "execution_count": 106,
     "metadata": {},
     "output_type": "execute_result"
    }
   ],
   "source": [
    "dump(knn, 'data/models/knn/tenpercent_1200words_imbalanced_knn_5.joblib')\n",
    "dump(nb, 'data/models/nb/tenpercent_1200words_imbalanced_nb.joblib')"
   ]
  },
  {
   "cell_type": "code",
   "execution_count": 104,
   "metadata": {},
   "outputs": [
    {
     "name": "stdout",
     "output_type": "stream",
     "text": [
      "Individual scores:\n",
      "[0.3        0.52447552 0.42666667 0.46153846 0.55555556 0.56505576]\n",
      "\n",
      "Average score: 0\n"
     ]
    }
   ],
   "source": [
    "pred = nb.predict(processed_feature_test)\n",
    "nb_cm = confusion_matrix(label_test, pred)\n",
    "print(\"Individual scores:\")\n",
    "print(f1_score(label_test, pred, average = None))\n",
    "print(\"\\nAverage score: %d\" %(f1_score(label_test, pred, average = 'micro')))"
   ]
  },
  {
   "cell_type": "code",
   "execution_count": 105,
   "metadata": {},
   "outputs": [
    {
     "data": {
      "image/png": "[encoded data removed]",
      "text/plain": [
       "<Figure size 720x576 with 2 Axes>"
      ]
     },
     "metadata": {
      "needs_background": "light"
     },
     "output_type": "display_data"
    }
   ],
   "source": [
    "df_nb = pd.DataFrame(nb_cm, WASTE_TYPES_NAME, WASTE_TYPES_NAME)\n",
    "\n",
    "plt.figure(figsize=(10,8))\n",
    "ax = sns.heatmap(df_nb,annot=True,fmt=\"d\",cmap=\"YlGnBu\")\n",
    "ax.set_ylim(6.0, 0.0)\n",
    "plt.savefig('analysis/nb/tenpercent_1200words_imbalance_nb.png')\n",
    "plt.show()"
   ]
  },
  {
   "cell_type": "code",
   "execution_count": 158,
   "metadata": {},
   "outputs": [
    {
     "data": {
      "text/plain": [
       "DecisionTreeClassifier(ccp_alpha=0.0, class_weight='balanced', criterion='gini',\n",
       "                       max_depth=None, max_features=None, max_leaf_nodes=None,\n",
       "                       min_impurity_decrease=0.0, min_impurity_split=None,\n",
       "                       min_samples_leaf=1, min_samples_split=2,\n",
       "                       min_weight_fraction_leaf=0.0, presort='deprecated',\n",
       "                       random_state=None, splitter='best')"
      ]
     },
     "execution_count": 158,
     "metadata": {},
     "output_type": "execute_result"
    }
   ],
   "source": [
    "from sklearn.tree import DecisionTreeClassifier\n",
    "\n",
    "dec_tree = DecisionTreeClassifier(criterion='gini', class_weight='balanced')\n",
    "dec_tree.fit(preprocessed_image, label_train)"
   ]
  },
  {
   "cell_type": "code",
   "execution_count": 159,
   "metadata": {},
   "outputs": [
    {
     "name": "stdout",
     "output_type": "stream",
     "text": [
      "Individual scores:\n",
      "[0.06451613 0.34821429 0.24605678 0.31441048 0.45348837 0.3713355 ]\n",
      "\n",
      "Average score: 0\n"
     ]
    }
   ],
   "source": [
    "pred = dec_tree.predict(processed_feature_test)\n",
    "dec_tree_cm = confusion_matrix(label_test, pred)\n",
    "print(\"Individual scores:\")\n",
    "print(f1_score(label_test, pred, average = None))\n",
    "print(\"\\nAverage score: %d\" %(f1_score(label_test, pred, average = 'micro')))"
   ]
  },
  {
   "cell_type": "code",
   "execution_count": 160,
   "metadata": {},
   "outputs": [
    {
     "data": {
      "image/png": "[encoded data removed]",
      "text/plain": [
       "<Figure size 720x576 with 2 Axes>"
      ]
     },
     "metadata": {
      "needs_background": "light"
     },
     "output_type": "display_data"
    }
   ],
   "source": [
    "dec_tree_df = pd.DataFrame(dec_tree_cm, WASTE_TYPES_NAME, WASTE_TYPES_NAME)\n",
    "\n",
    "plt.figure(figsize=(10,8))\n",
    "ax = sns.heatmap(dec_tree_df,annot=True,fmt=\"d\",cmap=\"YlGnBu\")\n",
    "ax.set_ylim(6.0, 0.0)\n",
    "plt.savefig('analysis/dec_tree/gini_dec_tree.png')\n",
    "plt.show()"
   ]
  },
  {
   "cell_type": "code",
   "execution_count": 171,
   "metadata": {},
   "outputs": [
    {
     "data": {
      "text/plain": [
       "RandomForestClassifier(bootstrap=True, ccp_alpha=0.0,\n",
       "                       class_weight='balanced_subsample', criterion='gini',\n",
       "                       max_depth=None, max_features='auto', max_leaf_nodes=None,\n",
       "                       max_samples=None, min_impurity_decrease=0.0,\n",
       "                       min_impurity_split=None, min_samples_leaf=1,\n",
       "                       min_samples_split=2, min_weight_fraction_leaf=0.0,\n",
       "                       n_estimators=1000, n_jobs=None, oob_score=False,\n",
       "                       random_state=None, verbose=0, warm_start=False)"
      ]
     },
     "execution_count": 171,
     "metadata": {},
     "output_type": "execute_result"
    }
   ],
   "source": [
    "from sklearn.ensemble import RandomForestClassifier\n",
    "\n",
    "rand_forest = RandomForestClassifier(n_estimators=1000, class_weight='balanced_subsample', criterion='entropy')\n",
    "rand_forest.fit(preprocessed_image, label_train)"
   ]
  },
  {
   "cell_type": "code",
   "execution_count": 172,
   "metadata": {},
   "outputs": [
    {
     "name": "stdout",
     "output_type": "stream",
     "text": [
      "Individual scores:\n",
      "[0.03508772 0.61946903 0.56213018 0.56281407 0.7382199  0.62179487]\n",
      "\n",
      "Average score: 0\n"
     ]
    }
   ],
   "source": [
    "pred = rand_forest.predict(processed_feature_test)\n",
    "rand_forest_cm = confusion_matrix(label_test, pred)\n",
    "print(\"Individual scores:\")\n",
    "print(f1_score(label_test, pred, average = None))\n",
    "print(\"\\nAverage score: %d\" %(f1_score(label_test, pred, average = 'micro')))"
   ]
  },
  {
   "cell_type": "code",
   "execution_count": 173,
   "metadata": {},
   "outputs": [
    {
     "data": {
      "image/png": "[encoded data removed]",
      "text/plain": [
       "<Figure size 720x576 with 2 Axes>"
      ]
     },
     "metadata": {
      "needs_background": "light"
     },
     "output_type": "display_data"
    }
   ],
   "source": [
    "rand_forest_df = pd.DataFrame(rand_forest_cm, WASTE_TYPES_NAME, WASTE_TYPES_NAME)\n",
    "\n",
    "plt.figure(figsize=(10,8))\n",
    "ax = sns.heatmap(rand_forest_df,annot=True,fmt=\"d\",cmap=\"YlGnBu\")\n",
    "ax.set_ylim(6.0, 0.0)\n",
    "plt.savefig('analysis/rand_forest/entropy_1000_tree_rand_forest.png')\n",
    "plt.show()"
   ]
  },
  {
   "cell_type": "code",
   "execution_count": 141,
   "metadata": {},
   "outputs": [
    {
     "data": {
      "text/plain": [
       "['data/models/nb/10000_tree_rand_forest.joblib']"
      ]
     },
     "execution_count": 141,
     "metadata": {},
     "output_type": "execute_result"
    }
   ],
   "source": [
    "dump(knn, 'data/models/knn/tenpercent_1200words_imbalanced_knn_5.joblib')"
   ]
  },
  {
   "cell_type": "code",
   "execution_count": null,
   "metadata": {},
   "outputs": [],
   "source": [
    "dump(nb, 'data/models/nb/tenpercent_1200words_imbalanced_nb.joblib')"
   ]
  },
  {
   "cell_type": "code",
   "execution_count": 161,
   "metadata": {},
   "outputs": [
    {
     "data": {
      "text/plain": [
       "['data/models/knn/gini_dec_tree.joblib']"
      ]
     },
     "execution_count": 161,
     "metadata": {},
     "output_type": "execute_result"
    }
   ],
   "source": [
    "dump(dec_tree, 'data/models/dec_tree/gini_dec_tree.joblib')"
   ]
  },
  {
   "cell_type": "code",
   "execution_count": 174,
   "metadata": {},
   "outputs": [
    {
     "data": {
      "text/plain": [
       "['data/models/rand_forest/entropy_1000_tree_rand_forest.joblib']"
      ]
     },
     "execution_count": 174,
     "metadata": {},
     "output_type": "execute_result"
    }
   ],
   "source": [
    "dump(rand_forest, 'data/models/rand_forest/entropy_1000_tree_rand_forest.joblib')"
   ]
  },
  {
   "cell_type": "code",
   "execution_count": null,
   "metadata": {},
   "outputs": [],
   "source": []
  },
  {
   "cell_type": "code",
   "execution_count": null,
   "metadata": {},
   "outputs": [],
   "source": []
  },
  {
   "cell_type": "code",
   "execution_count": null,
   "metadata": {},
   "outputs": [],
   "source": []
  },
  {
   "cell_type": "code",
   "execution_count": null,
   "metadata": {},
   "outputs": [],
   "source": []
  }
 ],
 "metadata": {
  "kernelspec": {
   "display_name": "Python 3",
   "language": "python",
   "name": "python3"
  },
  "language_info": {
   "codemirror_mode": {
    "name": "ipython",
    "version": 3
   },
   "file_extension": ".py",
   "mimetype": "text/x-python",
   "name": "python",
   "nbconvert_exporter": "python",
   "pygments_lexer": "ipython3",
   "version": "3.7.4"
  }
 },
 "nbformat": 4,
 "nbformat_minor": 4
}
