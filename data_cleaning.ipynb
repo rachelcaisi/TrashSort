{
 "cells": [
  {
   "cell_type": "code",
   "execution_count": 73,
   "metadata": {},
   "outputs": [
    {
     "name": "stdout",
     "output_type": "stream",
     "text": [
      "Requirement already satisfied: opencv-contrib-python==3.4.2.16 in c:\\users\\thuan\\anaconda3\\lib\\site-packages (3.4.2.16)\n",
      "Requirement already satisfied: numpy>=1.14.5 in c:\\users\\thuan\\anaconda3\\lib\\site-packages (from opencv-contrib-python==3.4.2.16) (1.16.5)\n"
     ]
    }
   ],
   "source": [
    "!pip install opencv-contrib-python==3.4.2.16"
   ]
  },
  {
   "cell_type": "code",
   "execution_count": 77,
   "metadata": {},
   "outputs": [],
   "source": [
    "import cv2\n",
    "import pandas as pd\n",
    "import numpy as np\n",
    "import os"
   ]
  },
  {
   "cell_type": "code",
   "execution_count": 78,
   "metadata": {},
   "outputs": [],
   "source": [
    "## helper functions ##\n",
    "## gets file names for a particular type of trash, given indices\n",
    "    ## input: waste category and indices\n",
    "    ## output: file names \n",
    "def get_names(waste_type,indices):\n",
    "    file_names = [\"dataset-resized/\"+waste_type+\"/\"+waste_type+str(i)+\".jpg\" for i in indices]\n",
    "    return(file_names)    \n",
    "\n",
    "## perform sift for image at image_name file location. Returns the SIFT descriptors\n",
    "def sift_image(image_name):\n",
    "    img = cv2.imread(image_name) #read image\n",
    "    gray = cv2.cvtColor(img,cv2.COLOR_BGR2GRAY) #normalize image to grayscale\n",
    "    sift = cv2.xfeatures2d.SIFT_create() \n",
    "    kp, descriptors = sift.detectAndCompute(gray,None)\n",
    "    return descriptors"
   ]
  },
  {
   "cell_type": "code",
   "execution_count": 79,
   "metadata": {},
   "outputs": [
    {
     "name": "stdout",
     "output_type": "stream",
     "text": [
      "trash\n",
      "cardboard\n",
      "glass\n",
      "metal\n",
      "paper\n",
      "plastic\n"
     ]
    }
   ],
   "source": [
    "waste_types = ['trash','cardboard','glass','metal','paper','plastic']\n",
    "\n",
    "image_names = []\n",
    "image_types = []\n",
    "image_descriptors = []\n",
    "\n",
    "# Perform SIFT for each image\n",
    "for waste_index in range(0, len(waste_types)):\n",
    "    waste_type = waste_types[waste_index]\n",
    "    print(waste_type)\n",
    "    source_folder = os.path.join('dataset-resized',waste_type)\n",
    "    \n",
    "    n = len(os.listdir(source_folder))\n",
    "    full_set = list(range(1,n+1))\n",
    "    \n",
    "    for image_name in get_names(waste_type, full_set):\n",
    "        image_names.append(image_name)\n",
    "        image_types.append(waste_index)\n",
    "        image_descriptors.append(sift_image(image_name))\n"
   ]
  },
  {
   "cell_type": "code",
   "execution_count": null,
   "metadata": {},
   "outputs": [],
   "source": [
    "print(len(image_descriptor))"
   ]
  },
  {
   "cell_type": "code",
   "execution_count": null,
   "metadata": {},
   "outputs": [],
   "source": [
    "df = pd.DataFrame()\n",
    "df['name'] = image_names\n",
    "df['type'] = image_types\n",
    "df['descriptor'] = image_descriptors\n",
    "df.head()"
   ]
  },
  {
   "cell_type": "code",
   "execution_count": 72,
   "metadata": {},
   "outputs": [],
   "source": [
    "df.to_csv('image_sift.csv', header=True, index=False) "
   ]
  },
  {
   "cell_type": "code",
   "execution_count": null,
   "metadata": {},
   "outputs": [],
   "source": []
  },
  {
   "cell_type": "code",
   "execution_count": null,
   "metadata": {},
   "outputs": [],
   "source": []
  },
  {
   "cell_type": "code",
   "execution_count": null,
   "metadata": {},
   "outputs": [],
   "source": []
  }
 ],
 "metadata": {
  "kernelspec": {
   "display_name": "Python 3",
   "language": "python",
   "name": "python3"
  },
  "language_info": {
   "codemirror_mode": {
    "name": "ipython",
    "version": 3
   },
   "file_extension": ".py",
   "mimetype": "text/x-python",
   "name": "python",
   "nbconvert_exporter": "python",
   "pygments_lexer": "ipython3",
   "version": "3.7.4"
  }
 },
 "nbformat": 4,
 "nbformat_minor": 2
}
